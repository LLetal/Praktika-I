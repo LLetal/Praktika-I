{
 "cells": [
  {
   "cell_type": "code",
   "execution_count": 1,
   "id": "970053a7-0750-40b5-8be2-b347ae9359de",
   "metadata": {
    "tags": []
   },
   "outputs": [
    {
     "name": "stdout",
     "output_type": "stream",
     "text": [
      "C:\\Users\\lukso\\Dropbox\\Praktika I\n"
     ]
    }
   ],
   "source": [
    "import uncertainties \n",
    "import matplotlib.pyplot as plt\n",
    "import numpy as np\n",
    "import pandas as pd\n",
    "from pathlib import Path\n",
    "from scipy.optimize import curve_fit\n",
    "from statistics import stdev\n",
    "from scipy import odr\n",
    "from scipy.odr import RealData\n",
    "from uncertainties import ufloat\n",
    "from uncertainties.umath import *\n",
    "from scipy import optimize\n",
    "print(Path.cwd().absolute())"
   ]
  },
  {
   "cell_type": "code",
   "execution_count": 5,
   "id": "d6eaf61c-1834-49eb-a8ba-48fd1cfc33b4",
   "metadata": {
    "tags": []
   },
   "outputs": [
    {
     "data": {
      "text/plain": [
       "array([ 8.47529053, 29.64145131, 73.44784396])"
      ]
     },
     "execution_count": 5,
     "metadata": {},
     "output_type": "execute_result"
    }
   ],
   "source": [
    "# Reynolds \n",
    "Typ_oleje = [\"ricínový\",\"Parafínový\",\"Parafínový\"]\n",
    "viscoz = np.array([986,101.8,101.8])*1e-3\n",
    "rho = np.array([950,850,850])\n",
    "diam = np.array([2.8,1.13,2.8])*1e-3\n",
    "Re = np.pi*rho*diam/viscoz\n",
    "dictionary = {\"Olej\":Typ_oleje,\n",
    "             \"eta\":viscoz,\n",
    "             \"rho\":rho,\n",
    "             \"d\":diam,\n",
    "              \"v\":vel,\n",
    "              \"Re\": Re\n",
    "             }"
   ]
  },
  {
   "cell_type": "code",
   "execution_count": 109,
   "id": "903ac39c-fdec-4778-9d59-7d22d392a8cd",
   "metadata": {
    "tags": []
   },
   "outputs": [
    {
     "name": "stderr",
     "output_type": "stream",
     "text": [
      "C:\\Users\\lukso\\AppData\\Local\\Temp\\ipykernel_4884\\3338604278.py:17: FutureWarning: In future versions `DataFrame.to_latex` is expected to utilise the base implementation of `Styler.to_latex` for formatting and rendering. The arguments signature may therefore change. It is recommended instead to use `DataFrame.style.to_latex` which also contains additional functionality.\n",
      "  f.write(rho_frame.to_latex(index_names=False, index=False,na_rep=\"-\"))\n"
     ]
    }
   ],
   "source": [
    "# hustoty\n",
    "mp = [18.1317,18.1317]\n",
    "m_1 = [21.4355,21.0114]\n",
    "m_2 = [28.3370,2.8337]\n",
    "m_3 = [30.4170,30.0925]\n",
    "rho = [2691,2553]\n",
    "\n",
    "rho_eval = {\"mp\":mp,\n",
    "         \"m_1\":m_1,\n",
    "         \"m_2\":m_2,\n",
    "         \"m_3\":m_3,\n",
    "         \"res_rho\":rho\n",
    "         } \n",
    "rho_frame = pd.DataFrame(rho_eval)\n",
    "\n",
    "with open(\"Tex_tables/XIXrho.tex\",\"w\") as f:\n",
    "    f.write(rho_frame.to_latex(index_names=False, index=False,na_rep=\"-\"))"
   ]
  },
  {
   "cell_type": "code",
   "execution_count": 6,
   "id": "73a08b4a-3e49-402a-b769-10c22573f50d",
   "metadata": {
    "tags": []
   },
   "outputs": [
    {
     "data": {
      "text/plain": [
       "2.8"
      ]
     },
     "execution_count": 6,
     "metadata": {},
     "output_type": "execute_result"
    }
   ],
   "source": [
    "2.8*986/986"
   ]
  },
  {
   "cell_type": "code",
   "execution_count": 124,
   "id": "f8f0b30d-0ce3-4a22-b1c8-1549847c87f4",
   "metadata": {
    "tags": []
   },
   "outputs": [
    {
     "name": "stdout",
     "output_type": "stream",
     "text": [
      "1.134 2.7963636363636364\n"
     ]
    },
    {
     "data": {
      "text/html": [
       "<div>\n",
       "<style scoped>\n",
       "    .dataframe tbody tr th:only-of-type {\n",
       "        vertical-align: middle;\n",
       "    }\n",
       "\n",
       "    .dataframe tbody tr th {\n",
       "        vertical-align: top;\n",
       "    }\n",
       "\n",
       "    .dataframe thead th {\n",
       "        text-align: right;\n",
       "    }\n",
       "</style>\n",
       "<table border=\"1\" class=\"dataframe\">\n",
       "  <thead>\n",
       "    <tr style=\"text-align: right;\">\n",
       "      <th></th>\n",
       "      <th>Typ kuličky</th>\n",
       "      <th>1</th>\n",
       "      <th>2</th>\n",
       "      <th>3</th>\n",
       "      <th>4</th>\n",
       "      <th>5</th>\n",
       "      <th>6</th>\n",
       "      <th>7</th>\n",
       "      <th>8</th>\n",
       "      <th>9</th>\n",
       "      <th>10</th>\n",
       "      <th>mu</th>\n",
       "      <th>sigma</th>\n",
       "    </tr>\n",
       "  </thead>\n",
       "  <tbody>\n",
       "    <tr>\n",
       "      <th>0</th>\n",
       "      <td>Velká</td>\n",
       "      <td>1.09</td>\n",
       "      <td>0.87</td>\n",
       "      <td>1.23</td>\n",
       "      <td>1.27</td>\n",
       "      <td>1.17</td>\n",
       "      <td>1.12</td>\n",
       "      <td>1.11</td>\n",
       "      <td>1.09</td>\n",
       "      <td>1.17</td>\n",
       "      <td>1.22</td>\n",
       "      <td>1.134000</td>\n",
       "      <td>0.105849</td>\n",
       "    </tr>\n",
       "    <tr>\n",
       "      <th>1</th>\n",
       "      <td>Malá</td>\n",
       "      <td>2.89</td>\n",
       "      <td>2.84</td>\n",
       "      <td>2.84</td>\n",
       "      <td>2.75</td>\n",
       "      <td>2.75</td>\n",
       "      <td>2.77</td>\n",
       "      <td>2.80</td>\n",
       "      <td>2.78</td>\n",
       "      <td>2.76</td>\n",
       "      <td>2.86</td>\n",
       "      <td>2.796364</td>\n",
       "      <td>0.051394</td>\n",
       "    </tr>\n",
       "  </tbody>\n",
       "</table>\n",
       "</div>"
      ],
      "text/plain": [
       "  Typ kuličky     1     2     3     4     5     6     7     8     9    10  \\\n",
       "0       Velká  1.09  0.87  1.23  1.27  1.17  1.12  1.11  1.09  1.17  1.22   \n",
       "1        Malá  2.89  2.84  2.84  2.75  2.75  2.77  2.80  2.78  2.76  2.86   \n",
       "\n",
       "         mu     sigma  \n",
       "0  1.134000  0.105849  \n",
       "1  2.796364  0.051394  "
      ]
     },
     "execution_count": 124,
     "metadata": {},
     "output_type": "execute_result"
    }
   ],
   "source": [
    "#tabulka na hodnoty\n",
    "d_v = np.array([1.09,0.87,1.23,1.27,1.17,1.12,1.11,1.09,1.17,1.22])\n",
    "d_m = np.array([2.89,2.84,2.84,2.75,2.75,2.77,2.8,2.78,2.76,2.86,2.72])\n",
    "d_vmean = np.mean(d_v)\n",
    "d_mmean = np.mean(d_m,)\n",
    "\n",
    "print(d_vmean,d_mmean)\n",
    "# je třeba odebrat řádek prázdnej v latexu\n",
    "table = {\"Typ kuličky\":[\"Velká\",\"Malá\"]\n",
    "         \n",
    "}\n",
    "for n in range(len(d_v)):\n",
    "    table[str(n+1)] = np.array([d_v[n],d_m[n]])\n",
    "table[\"mu\"] = np.array([d_vmean,d_mmean])\n",
    "table[\"sigma\"] = np.array([np.std(d_v),np.std(d_m)])\n",
    "tabulka =  pd.DataFrame(table)\n",
    "\n",
    "with open(\"Tex_tables/XIXd.tex\",\"w\") as f:\n",
    "    f.write(tabulka.to_latex(index_names=False, index=False,na_rep=\"-\"))"
   ]
  },
  {
   "cell_type": "code",
   "execution_count": 132,
   "id": "cbd09bba-723b-486c-85c7-3c0bb2d24af0",
   "metadata": {
    "tags": []
   },
   "outputs": [
    {
     "name": "stdout",
     "output_type": "stream",
     "text": [
      "[ 5.295      23.38333333]\n",
      "[0.83597747 1.96012471]\n",
      "[ 5.295      23.38333333]\n",
      "[0. 0. 0. 0.]\n",
      "chyba v procentech\n",
      "9.417199720291244\n",
      "[0.87027011 0.         0.08195507 0.        ]\n",
      "chyba v procentech\n",
      "24.84570583465576\n",
      "[  60.42410204 6103.48236488   10.5677059  2260.23781517]\n"
     ]
    },
    {
     "name": "stderr",
     "output_type": "stream",
     "text": [
      "C:\\Users\\lukso\\AppData\\Local\\Temp\\ipykernel_4884\\3002960025.py:22: FutureWarning: In future versions `DataFrame.to_latex` is expected to utilise the base implementation of `Styler.to_latex` for formatting and rendering. The arguments signature may therefore change. It is recommended instead to use `DataFrame.style.to_latex` which also contains additional functionality.\n",
      "  f.write(tabulka.to_latex(index_names=False, index=False,na_rep=\"-\"))\n",
      "C:\\Users\\lukso\\AppData\\Local\\Temp\\ipykernel_4884\\3002960025.py:83: FutureWarning: In future versions `DataFrame.to_latex` is expected to utilise the base implementation of `Styler.to_latex` for formatting and rendering. The arguments signature may therefore change. It is recommended instead to use `DataFrame.style.to_latex` which also contains additional functionality.\n",
      "  f.write(res_frame.to_latex(index_names=False, index=False,na_rep=\"-\"))\n"
     ]
    }
   ],
   "source": [
    "# časy\n",
    "casy = [\"t1\",\"t2\"]\n",
    "t1 = np.array([4.19,5.41,4.57,5.41,5.34,6.85])\n",
    "t2 = np.array([21.16,23.94,21.13,22.64,24.91,26.52])\n",
    "t_mean = np.array([np.mean(t1),np.mean(t2)])\n",
    "print(t_mean)\n",
    "tstdev = np.array([np.std(t1),np.std(t2)])\n",
    "print(tstdev)\n",
    "# results = {\"t1\":t1,\"t2\":t2,\"t1mean\":mean[0]}\n",
    "\n",
    "table2 = {\"Čas měření\":casy\n",
    "         \n",
    "}\n",
    "\n",
    "for n in range(len(t1)):\n",
    "    table[str(n+1)] = np.array([t1[n],t2[n]])\n",
    "\n",
    "table2[\"mu\"] = t_mean\n",
    "table2[\"sigma\"] = tstdev\n",
    "\n",
    "with open(\"Tex_tables/XIXt.tex\",\"w\") as f:\n",
    "    f.write(tabulka.to_latex(index_names=False, index=False,na_rep=\"-\"))\n",
    "# reynolds parametry\n",
    "Parametry = [\"d\",\"d2\",\"m1\",\"m2\",\"rhos1\",\"rhos2\"]\n",
    "hodnoty = [1.13,2.80,18.1317,18.1317,2691,2553]\n",
    "chyba = [1e-5,5e-5,1e-3,1e-4,1e-2,3,3]\n",
    "print(t_mean)\n",
    "ball_param = {\n",
    "              \"s\":[\"mu1\",\"mu2\",\"sigma1\",\"sigma2\"],\n",
    "              \"dk [mm]\":np.array([d_mmean,d_vmean,np.std(d_m),np.std(d_v)]),\n",
    "              \"lv [cm]\":np.array([20.6,20.8,0.3,0.3]),\n",
    "              \"Dv [mm]\":np.array([61.6,61.25,0.3,0.2]),\n",
    "              \"g [ms-2]\":np.array([9.81,9.81,0.1,0.1]),\n",
    "              \"rhok [kg m-3]\":np.array([rho_eval[\"res_rho\"][1],rho_eval[\"res_rho\"][0],3,3]),\n",
    "              \"rhol [kg m-3]\":np.array([950,850,1,1]),\n",
    "              \"t [s]\":np.array([t_mean[1],t_mean[0],tstdev[1],tstdev[0]])\n",
    "            \n",
    "}\n",
    "g = ufloat(9.81,1)\n",
    "g.std_dev\n",
    "res_frame = pd.DataFrame(ball_param)\n",
    "Re = np.zeros(4)\n",
    "eta = np.zeros(4)\n",
    "\n",
    "n = 2 # počet měření\n",
    "for x in range(n):\n",
    "    d = ufloat(res_frame[\"dk [mm]\"][x],res_frame[\"dk [mm]\"][x+n])*1e-3\n",
    "    rhok = ufloat(res_frame[\"rhok [kg m-3]\"][x],res_frame[\"rhok [kg m-3]\"][x+n])\n",
    "    rhol = ufloat(res_frame[\"rhol [kg m-3]\"][x],res_frame[\"rhol [kg m-3]\"][x+n])\n",
    "    g = ufloat(res_frame[\"g [ms-2]\"][x],res_frame[\"g [ms-2]\"][x+n])\n",
    "    l = ufloat(res_frame[\"lv [cm]\"][x],res_frame[\"lv [cm]\"][x+n])*1e-2\n",
    "    t = ufloat(res_frame[\"t [s]\"][x],res_frame[\"t [s]\"][x+n])\n",
    "    D = ufloat(res_frame[\"Dv [mm]\"][x],res_frame[\"Dv [mm]\"][x+n])*1e-3 \n",
    "    v = l/t\n",
    "    r = d/2\n",
    "    R = D/2\n",
    "    etas = ((2*r**2) *(rhok-rhol)*g)/(9*v*(1-2.4*r/R))\n",
    "    Ren = 2*np.pi*rhol*v/etas\n",
    "    print(eta)\n",
    "    Re[x] = Ren.nominal_value\n",
    "    eta[x] = etas.nominal_value\n",
    "    eta[x+n] = etas.std_dev\n",
    "    Re[x+n] = Ren.std_dev\n",
    "    print(\"chyba v procentech\")\n",
    "    print(etas.std_dev/etas.nominal_value *1e2)\n",
    "print(Re)\n",
    "res_frame[\"Re\"] = Re \n",
    "res_frame[\"eta\"] = eta\n",
    "# Viscosity\n",
    "Typ_oleje = [\"ricínový\",\"Parafínový\",\"Parafínový\"]\n",
    "viscoz = np.array([986,101.8,101.8])*1e-3\n",
    "rho = np.array([950,850,850])\n",
    "diam = np.array([2.8,1.13,2.8])*1e-3\n",
    "Re = np.pi*rho*diam/viscoz\n",
    "dictionary = {\"Olej\":Typ_oleje,\n",
    "             \"eta\":viscoz,\n",
    "             \"rho\":rho,\n",
    "             \"d\":diam,\n",
    "              # \"v\":vel,\n",
    "              \"Re\": Re\n",
    "             }\n",
    "with open(\"Tex_tables/XIXres.tex\",\"w\") as f:\n",
    "    f.write(res_frame.to_latex(index_names=False, index=False,na_rep=\"-\"))"
   ]
  },
  {
   "cell_type": "code",
   "execution_count": 133,
   "id": "f7ebd224-2715-47a5-902c-94b449fd2628",
   "metadata": {
    "tags": []
   },
   "outputs": [
    {
     "data": {
      "text/html": [
       "<div>\n",
       "<style scoped>\n",
       "    .dataframe tbody tr th:only-of-type {\n",
       "        vertical-align: middle;\n",
       "    }\n",
       "\n",
       "    .dataframe tbody tr th {\n",
       "        vertical-align: top;\n",
       "    }\n",
       "\n",
       "    .dataframe thead th {\n",
       "        text-align: right;\n",
       "    }\n",
       "</style>\n",
       "<table border=\"1\" class=\"dataframe\">\n",
       "  <thead>\n",
       "    <tr style=\"text-align: right;\">\n",
       "      <th></th>\n",
       "      <th>s</th>\n",
       "      <th>dk [mm]</th>\n",
       "      <th>lv [cm]</th>\n",
       "      <th>Dv [mm]</th>\n",
       "      <th>g [ms-2]</th>\n",
       "      <th>rhok [kg m-3]</th>\n",
       "      <th>rhol [kg m-3]</th>\n",
       "      <th>t [s]</th>\n",
       "      <th>Re</th>\n",
       "      <th>eta</th>\n",
       "    </tr>\n",
       "  </thead>\n",
       "  <tbody>\n",
       "    <tr>\n",
       "      <th>0</th>\n",
       "      <td>mu1</td>\n",
       "      <td>2.796364</td>\n",
       "      <td>20.6</td>\n",
       "      <td>61.60</td>\n",
       "      <td>9.81</td>\n",
       "      <td>2553</td>\n",
       "      <td>950</td>\n",
       "      <td>23.383333</td>\n",
       "      <td>60.424102</td>\n",
       "      <td>0.870270</td>\n",
       "    </tr>\n",
       "    <tr>\n",
       "      <th>1</th>\n",
       "      <td>mu2</td>\n",
       "      <td>1.134000</td>\n",
       "      <td>20.8</td>\n",
       "      <td>61.25</td>\n",
       "      <td>9.81</td>\n",
       "      <td>2691</td>\n",
       "      <td>850</td>\n",
       "      <td>5.295000</td>\n",
       "      <td>6103.482365</td>\n",
       "      <td>0.034373</td>\n",
       "    </tr>\n",
       "    <tr>\n",
       "      <th>2</th>\n",
       "      <td>sigma1</td>\n",
       "      <td>0.051394</td>\n",
       "      <td>0.3</td>\n",
       "      <td>0.30</td>\n",
       "      <td>0.10</td>\n",
       "      <td>3</td>\n",
       "      <td>1</td>\n",
       "      <td>1.960125</td>\n",
       "      <td>10.567706</td>\n",
       "      <td>0.081955</td>\n",
       "    </tr>\n",
       "    <tr>\n",
       "      <th>3</th>\n",
       "      <td>sigma2</td>\n",
       "      <td>0.105849</td>\n",
       "      <td>0.3</td>\n",
       "      <td>0.20</td>\n",
       "      <td>0.10</td>\n",
       "      <td>3</td>\n",
       "      <td>1</td>\n",
       "      <td>0.835977</td>\n",
       "      <td>2260.237815</td>\n",
       "      <td>0.008540</td>\n",
       "    </tr>\n",
       "  </tbody>\n",
       "</table>\n",
       "</div>"
      ],
      "text/plain": [
       "        s   dk [mm]  lv [cm]  Dv [mm]  g [ms-2]  rhok [kg m-3]  rhol [kg m-3]  \\\n",
       "0     mu1  2.796364     20.6    61.60      9.81           2553            950   \n",
       "1     mu2  1.134000     20.8    61.25      9.81           2691            850   \n",
       "2  sigma1  0.051394      0.3     0.30      0.10              3              1   \n",
       "3  sigma2  0.105849      0.3     0.20      0.10              3              1   \n",
       "\n",
       "       t [s]           Re       eta  \n",
       "0  23.383333    60.424102  0.870270  \n",
       "1   5.295000  6103.482365  0.034373  \n",
       "2   1.960125    10.567706  0.081955  \n",
       "3   0.835977  2260.237815  0.008540  "
      ]
     },
     "execution_count": 133,
     "metadata": {},
     "output_type": "execute_result"
    }
   ],
   "source": [
    "res_frame"
   ]
  },
  {
   "cell_type": "code",
   "execution_count": null,
   "id": "6d23f921-bb04-4145-9149-21ece90d69a0",
   "metadata": {},
   "outputs": [],
   "source": []
  }
 ],
 "metadata": {
  "kernelspec": {
   "display_name": "Python 3 (ipykernel)",
   "language": "python",
   "name": "python3"
  },
  "language_info": {
   "codemirror_mode": {
    "name": "ipython",
    "version": 3
   },
   "file_extension": ".py",
   "mimetype": "text/x-python",
   "name": "python",
   "nbconvert_exporter": "python",
   "pygments_lexer": "ipython3",
   "version": "3.11.4"
  }
 },
 "nbformat": 4,
 "nbformat_minor": 5
}
