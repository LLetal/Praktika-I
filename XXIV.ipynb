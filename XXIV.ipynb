{
 "cells": [
  {
   "cell_type": "code",
   "execution_count": 25,
   "id": "24f3fb26-0ffa-4a38-9404-0ed8969d2c07",
   "metadata": {},
   "outputs": [
    {
     "name": "stdout",
     "output_type": "stream",
     "text": [
      "C:\\Users\\lukso\\Dropbox\\Praktika I\n"
     ]
    }
   ],
   "source": [
    "import uncertainties \n",
    "import matplotlib.pyplot as plt\n",
    "import numpy as np\n",
    "import pandas as pd\n",
    "from pathlib import Path\n",
    "from scipy.optimize import curve_fit\n",
    "from statistics import stdev\n",
    "from scipy import odr\n",
    "from scipy.odr import RealData\n",
    "print(Path.cwd().absolute())"
   ]
  },
  {
   "cell_type": "code",
   "execution_count": 13,
   "id": "3b7cf4e6-69d8-496b-8066-a44fd8933066",
   "metadata": {},
   "outputs": [
    {
     "name": "stdout",
     "output_type": "stream",
     "text": [
      "[0.005 0.005 0.005 0.005 0.005 0.005 0.005 0.005 0.005 0.005]\n"
     ]
    },
    {
     "name": "stderr",
     "output_type": "stream",
     "text": [
      "C:\\Users\\lukso\\AppData\\Local\\Temp\\ipykernel_2544\\2592131921.py:35: FutureWarning: In future versions `DataFrame.to_latex` is expected to utilise the base implementation of `Styler.to_latex` for formatting and rendering. The arguments signature may therefore change. It is recommended instead to use `DataFrame.style.to_latex` which also contains additional functionality.\n",
      "  f.write(dframe.to_latex(index_names=False, index=False,na_rep=\"-\"))\n"
     ]
    }
   ],
   "source": [
    "praktikum = \"Tex_tables\\XXIV.tex\"\n",
    "\n",
    "# dictionary = {\"t [$\\degree$C]\":[21.0,26.0,31.0,36.0,41.0,46.0,51.0,56.0,61.0],\n",
    "#               \"l_o [mm]\":[0.000,0.035,0.070,0.105,0.140,0.170,0.200,0.240,0.270],\n",
    "#               #\"t_m\":[21.0,26.0,31.0,36.0,41.0,46.0,51.0,56.0,61.0],\n",
    "#               \"l_m [mm]\":[0.000,0.060,0.110,0.160,0.215,0.270,0.320,0.370,0.430],\n",
    "#               #\"t_h\":[21.0,26.0,31.0,36.0,41.0,46.0,51.0,56.0,61.0],\n",
    "#               \"l_h [mm]\":[0.000,0.065,0.115,0.180,0.245,0.305,0.370,0.435,0.485],\n",
    "#               #\"t_s\":[21.0,26.0,31.0,36.0,41.0,46.0,51.0,56.0,61.0],\n",
    "#               \"l_s [mm]\":[0.000,0.010,0.020,0.025,0.030,0.040,0.050,0.055,0.060]\n",
    "# }\n",
    "temperature = [18,23,28,33,38,43,48,53,58,63,68]\n",
    "values_1 = [0,0.075,0.110,0.160,0.220,0.280,0.335,0.390,0.450,0.500,float(\"Nan\")]\n",
    "values_2 = [0,0.060,0.130,0.190,0.265,0.330,0.400,0.460,0.530,0.595,float(\"Nan\")]\n",
    "values_3 = [0,0.050,0.100,0.155,0.200,0.250,0.305,0.360,0.410,0.460,float(\"Nan\")]\n",
    "values_4 = [0,0.030,0.060,0.095,0.130,0.165,0.200,0.235,0.260,0.300,float(\"Nan\")]\n",
    "\n",
    "error_of_means = np.array([0.005 for x in values_1[:10]])\n",
    "error_of_temp = np.array([0.5 for x in values_1[:10]])\n",
    "\n",
    "print(error_of_means)\n",
    "\n",
    "values_5 = [0,float(\"Nan\"),0.020,float(\"Nan\"),0.040,float(\"Nan\"),0.050,float(\"Nan\"),0.070,float(\"Nan\"),0.080]\n",
    "dictionary = {\"t [$\\degree$C]\":temperature,\n",
    "              \"l_1 [mm]\":values_1,\n",
    "              \"l_2 [mm]\":values_2,\n",
    "              \"l_3 [mm]\":values_3,\n",
    "              \"l_4 [mm]\":values_4,\n",
    "              \"l_5 [mm]\":values_5\n",
    "              \n",
    "             }\n",
    "\n",
    "dframe = pd.DataFrame(dictionary)\n",
    "\n",
    "with open(praktikum,\"w\") as f:\n",
    "    f.write(dframe.to_latex(index_names=False, index=False,na_rep=\"-\"))\n",
    "    "
   ]
  },
  {
   "cell_type": "markdown",
   "id": "8a1914ab-7c48-4658-b170-9975872b76c8",
   "metadata": {},
   "source": [
    "# Výpočet nejistoty - knihovna uncertainties"
   ]
  },
  {
   "cell_type": "code",
   "execution_count": 3,
   "id": "02a72897-2df4-4472-b885-92f58ee78a34",
   "metadata": {
    "tags": []
   },
   "outputs": [
    {
     "name": "stdout",
     "output_type": "stream",
     "text": [
      "(5,) (6,) (10,)\n"
     ]
    }
   ],
   "source": [
    "print(np.shape(error_of_means[::2]),np.shape(dframe[\"t [$\\degree$C]\"][::2]),np.shape(dframe[\"l_1 [mm]\"].dropna()))"
   ]
  },
  {
   "cell_type": "code",
   "execution_count": 49,
   "id": "e7686121-88c7-47a7-bfed-25ac355a05fd",
   "metadata": {
    "tags": []
   },
   "outputs": [
    {
     "name": "stdout",
     "output_type": "stream",
     "text": [
      "18.4 22.2 17.1 11.2 2.7\n"
     ]
    },
    {
     "name": "stderr",
     "output_type": "stream",
     "text": [
      "C:\\Users\\lukso\\AppData\\Local\\Temp\\ipykernel_2544\\2906218640.py:49: FutureWarning: In future versions `DataFrame.to_latex` is expected to utilise the base implementation of `Styler.to_latex` for formatting and rendering. The arguments signature may therefore change. It is recommended instead to use `DataFrame.style.to_latex` which also contains additional functionality.\n",
      "  f.write(table.to_latex(index_names=False, index=False))\n",
      "C:\\Users\\lukso\\AppData\\Local\\Temp\\ipykernel_2544\\2906218640.py:52: FutureWarning: In future versions `DataFrame.to_latex` is expected to utilise the base implementation of `Styler.to_latex` for formatting and rendering. The arguments signature may therefore change. It is recommended instead to use `DataFrame.style.to_latex` which also contains additional functionality.\n",
      "  f.write(coeff_table.to_latex(index_names=False, index=False))\n"
     ]
    },
    {
     "data": {
      "text/plain": [
       "array([0.0001101 , 0.0001101 , 0.0001101 , 0.0001101 , 0.00011952])"
      ]
     },
     "execution_count": 49,
     "metadata": {},
     "output_type": "execute_result"
    }
   ],
   "source": [
    "def linear_fit(t,k,C):\n",
    "    return(k*t +C)\n",
    "\n",
    "def linear_fit_odr(B,t):\n",
    "    return(B[0]*t +B[1])\n",
    "\n",
    "def quadratic_fit(x,a,b,c):\n",
    "    return(a* x**2 + b*x +c)\n",
    "\n",
    "# def linear_fit(t,k):\n",
    "#     return(k*t)\n",
    "\n",
    "coeff_1,err_1 = curve_fit(linear_fit,dframe[\"t [$\\degree$C]\"][:10],dframe[\"l_1 [mm]\"].dropna(),sigma=error_of_means,absolute_sigma=True)\n",
    "coeff_2,err_2 = curve_fit(linear_fit,dframe[\"t [$\\degree$C]\"][:10],dframe[\"l_2 [mm]\"].dropna(),sigma=error_of_means,absolute_sigma=True)\n",
    "coeff_3,err_3 = curve_fit(linear_fit,dframe[\"t [$\\degree$C]\"][:10],dframe[\"l_3 [mm]\"].dropna(),sigma=error_of_means,absolute_sigma=True)\n",
    "coeff_4,err_4 = curve_fit(linear_fit,dframe[\"t [$\\degree$C]\"][:10],dframe[\"l_4 [mm]\"].dropna(),sigma=error_of_means,absolute_sigma=True)\n",
    "coeff_5,err_5 = curve_fit(linear_fit,dframe[\"t [$\\degree$C]\"][::2],dframe[\"l_5 [mm]\"].dropna(),sigma=error_of_means[:6],absolute_sigma=True)\n",
    "l_0 = 0.6\n",
    "\n",
    "coeff_list = np.array([coeff_1[0],coeff_2[0],coeff_3[0],coeff_4[0],coeff_5[0]])\n",
    "\n",
    "error_list = np.sqrt(np.array([err_1[0][0],err_2[0][0],err_3[0][0],err_4[0][0],err_5[0][0]]))\n",
    "\n",
    "\n",
    "alpha_1 = round(coeff_1[0]/l_0 *1000,1)\n",
    "alpha_2 = round(coeff_2[0]/l_0 *1000,1)\n",
    "alpha_3 = round(coeff_3[0]/l_0 *1000,1)\n",
    "alpha_4 = round(coeff_4[0]/l_0 *1000,1)\n",
    "alpha_5 = round(coeff_5[0]/l_0 *1000,1)\n",
    "\n",
    "alpha_list= np.array([alpha_1,alpha_2,alpha_3,alpha_4,alpha_5])\n",
    "\n",
    "table_info = {\"Material\":[\"Mosaz\", \"Hlinik\",\"Med\",\"Ocel\",\"Sklo\"], \n",
    "                          \"\\alpha [\\degree C^{-1} 1e-6]\":np.round(alpha_list,2),\n",
    "                          \"\\eta_\\alpha\":np.round(((error_list*1e3)/alpha_list),2)\n",
    "                          }\n",
    "\n",
    "table_error = {\"Material\":[\"Mosaz\", \"Hlinik\",\"Med\",\"Ocel\",\"Sklo\"], \n",
    "                          \"Koeficient C [m^{-1}°C^{-1} 1e-6]\":np.round(coeff_list*1e3,2),\n",
    "                          \"Chyba koeficientu [m^{-1}°C^{-1} 1e-6]\":np.round(error_list*1e3,2)\n",
    "                          }\n",
    "\n",
    "table = pd.DataFrame(table_info)\n",
    "\n",
    "coeff_table = pd.DataFrame(table_error)\n",
    "\n",
    "print(alpha_1,alpha_2,alpha_3,alpha_4,alpha_5)\n",
    "\n",
    "with open(\"Tex_tables\\XXIVres.tex\",\"w\") as f:\n",
    "    f.write(table.to_latex(index_names=False, index=False))\n",
    "\n",
    "with open(\"Tex_tables\\XXIVcoeff.tex\",\"w\") as f:\n",
    "    f.write(coeff_table.to_latex(index_names=False, index=False))\n",
    "\n",
    "error_list"
   ]
  },
  {
   "cell_type": "code",
   "execution_count": 51,
   "id": "7a77ec65-c938-4140-a0f0-b677c7b76619",
   "metadata": {
    "tags": []
   },
   "outputs": [
    {
     "name": "stdout",
     "output_type": "stream",
     "text": [
      "(6,)\n"
     ]
    }
   ],
   "source": [
    "datatest = RealData(dframe[\"t [$\\degree$C]\"][:6],dframe[\"l_5 [mm]\"].dropna(),sx=error_of_temp,sy=error_of_means)\n",
    "quad_model = odr.Model(linear_fit_odr)\n",
    "print(np.shape(dframe[\"l_5 [mm]\"].dropna()))\n",
    "odrtest = odr.ODR(datatest,quad_model,beta0=[1,2])\n",
    "out = odrtest.run()\n",
    "error_list = np.array([0.00015939,7.377*1e-5,5.84*1e-5,6.76*1e-5,0.000174])"
   ]
  },
  {
   "cell_type": "code",
   "execution_count": 32,
   "id": "7616480f-a4a4-4a74-96f4-9dd3a82715f3",
   "metadata": {
    "tags": []
   },
   "outputs": [
    {
     "name": "stdout",
     "output_type": "stream",
     "text": [
      "[0.11009638 0.11009638 0.11009638 0.11009638 0.11952286]\n",
      "[18.4 22.2 17.1 11.2  2.7]\n"
     ]
    },
    {
     "data": {
      "text/plain": [
       "array([0.0059835 , 0.0049593 , 0.00643838, 0.00983003, 0.04426773])"
      ]
     },
     "execution_count": 32,
     "metadata": {},
     "output_type": "execute_result"
    }
   ],
   "source": [
    "print(error_list*1e3)\n",
    "print(alpha_list)\n",
    "(error_list*1e3)/alpha_list"
   ]
  },
  {
   "cell_type": "code",
   "execution_count": 6,
   "id": "b7bfc2cb-f600-4923-a9cf-7264a67a7e01",
   "metadata": {
    "tags": []
   },
   "outputs": [
    {
     "name": "stdout",
     "output_type": "stream",
     "text": [
      "[0.0001101  0.0001101  0.0001101  0.0001101  0.00011952]\n"
     ]
    }
   ],
   "source": [
    "print(error_list)"
   ]
  },
  {
   "cell_type": "code",
   "execution_count": 47,
   "id": "b2ce4083-75db-4eed-b1ab-50100995a752",
   "metadata": {
    "tags": []
   },
   "outputs": [
    {
     "name": "stdout",
     "output_type": "stream",
     "text": [
      "0\n",
      "1\n",
      "2\n",
      "3\n",
      "4\n",
      "[1.8404040400445595e-05+/-0.00026565000177085926\n",
      " 2.220202020173944e-05+/-0.00012295000556831697\n",
      " 1.709090908731133e-05+/-9.733333750141508e-05\n",
      " 1.118181818125793e-05+/-0.00011266666820800121\n",
      " 2.666666665603614e-06+/-0.00029000000003405707]\n"
     ]
    },
    {
     "name": "stderr",
     "output_type": "stream",
     "text": [
      "C:\\Users\\lukso\\AppData\\Local\\Temp\\ipykernel_2544\\2964780645.py:11: DeprecationWarning: in the future the `.dtype` attribute of a given datatype object must be a valid dtype instance. `data_type.dtype` may need to be coerced using `np.dtype(data_type.dtype)`. (Deprecated NumPy 1.20)\n",
      "  final_error = np.empty(5,dtype=type(K))\n"
     ]
    },
    {
     "data": {
      "text/plain": [
       "[1.4434330505187731,\n",
       " 0.5537784600280848,\n",
       " 0.5695035706068878,\n",
       " 1.0075880897155356,\n",
       " 10.875000005612401]"
      ]
     },
     "execution_count": 47,
     "metadata": {},
     "output_type": "execute_result"
    }
   ],
   "source": [
    "from uncertainties import ufloat\n",
    "from uncertainties.umath import *\n",
    "# Vzorec, pro který chceme vypočítat chybu\n",
    "#\n",
    "# def error_generator(inputset):\n",
    "#     deviation = stdev(inputset)\n",
    "\n",
    "l0 = ufloat(600,1) #mm\n",
    "K = ufloat(coeff_list[0],error_list[0]*1e3)\n",
    "\n",
    "final_error = np.empty(5,dtype=type(K))\n",
    "for i in range(len(coeff_list)):\n",
    "    print(i)\n",
    "    \n",
    "    K = ufloat(coeff_list[i],error_list[i]*1e3)\n",
    "    final_error[i] = K/l0\n",
    "    \n",
    "print(final_error)\n",
    "prelast = [[1.8404040400445595e-02,0.00026565000177085926],\n",
    " [2.220202020173944e-02,0.00012295000556831697],\n",
    " [1.709090908731133e-02,9.733333750141508e-05],\n",
    " [1.118181818125793e-02,0.00011266666820800121],\n",
    " [2.666666665603614e-03,0.00029000000003405707]]\n",
    "\n",
    "#print(prelast*1e3)\n",
    "percent = [1e2* x[1]/x[0] for x in prelast]\n",
    "percent"
   ]
  },
  {
   "cell_type": "code",
   "execution_count": 8,
   "id": "d4f14495-356d-4c6b-b053-c23dd9c587ac",
   "metadata": {
    "tags": []
   },
   "outputs": [],
   "source": [
    "# x_axis = dframe[\"t [$\\degree$C]\"]\n",
    "# plt.scatter(x_axis,dframe[\"l_o [mm]\"],label=\"Ocel\",marker=\"^\")\n",
    "# plt.scatter(x_axis,dframe[\"l_h [mm]\"],label =\"Hliník\",marker=\"*\")\n",
    "# plt.scatter(x_axis,dframe[\"l_m [mm]\"],label=\"Mosaz\",marker=\".\")\n",
    "# plt.scatter(x_axis,dframe[\"l_s [mm]\"],label=\"Sklo\",marker=\"+\")\n",
    "\n",
    "# plt.plot(x_axis,linear_fit(x_axis,*coeff_o),label=\"Ocel_fit\",linestyle=\"dashed\",lw = 0.5)\n",
    "# plt.plot(x_axis,linear_fit(x_axis,*coeff_s),label=\"Sklo_fit\",linestyle= \"dashed\",lw = 0.5)\n",
    "# plt.plot(x_axis,linear_fit(x_axis,*coeff_m),label=\"Mosaz_fit\",linestyle= \"dashed\",lw = 0.5)\n",
    "# plt.plot(x_axis,linear_fit(x_axis,*coeff_h),label=\"Hliník_fit\",linestyle=\"dashed\",lw = 0.5)\n",
    "\n",
    "# plt.xlabel(\"Δt [°C]\")\n",
    "# plt.ylabel(f\"Prodloužení Δl [mm]\")\n",
    "# plt.title(\"Graf závislosti prodloužení na teplotě\")\n",
    "# plt.legend()\n",
    "# plt.savefig(\"Graphs\\\\\"+ str(praktikum.split(\"\\\\\")[1][:4]))\n",
    "\n",
    "# # Errorbar template\n",
    "# #plt.errorbar(x_data, y_data, yerr_data, ls='', capsize=4, marker='.', ms=5, mec='black')\n"
   ]
  },
  {
   "cell_type": "code",
   "execution_count": 9,
   "id": "79b32170-fe9a-4054-b641-f8ebd0857441",
   "metadata": {
    "tags": []
   },
   "outputs": [
    {
     "data": {
      "image/png": "[encoded data removed]",
      "text/plain": [
       "<Figure size 640x480 with 1 Axes>"
      ]
     },
     "metadata": {},
     "output_type": "display_data"
    }
   ],
   "source": [
    "x_axis = dframe[\"t [$\\degree$C]\"]\n",
    "plt.scatter(x_axis,dframe[\"l_1 [mm]\"],label=\"Mosaz\",marker=\"^\",ls=\"\")\n",
    "plt.plot(x_axis,linear_fit(x_axis,*coeff_1),label=\"Mosaz_fit\",linestyle=\"-.\",lw = 0.5)\n",
    "plt.scatter(x_axis,dframe[\"l_2 [mm]\"], label =\"Hliník\",marker=\"*\",ls=\"\")\n",
    "plt.plot(x_axis,linear_fit(x_axis,*coeff_2),label=\"Hliník_fit\",linestyle= \"-.\",lw = 0.5)\n",
    "plt.scatter(x_axis,dframe[\"l_3 [mm]\"],label=\"Měď\",marker=\".\")\n",
    "plt.plot(x_axis,linear_fit(x_axis,*coeff_3),label=\"Měď_fit\",linestyle= \"-.\",lw = 0.5)\n",
    "plt.scatter(x_axis,dframe[\"l_4 [mm]\"],label=\"Ocel\",marker=\"+\")\n",
    "plt.plot(x_axis,linear_fit(x_axis,*coeff_4),label=\"Ocel_fit\",linestyle=\"-.\",lw = 0.5)\n",
    "\n",
    "plt.errorbar(x_axis,dframe[\"l_5 [mm]\"],yerr=0.005,xerr=0.5,label=\"Sklo\",marker=\"x\",ms=2,capsize=5)\n",
    "\n",
    "plt.plot(x_axis,linear_fit(x_axis,*coeff_5),label=\"Sklo_fit\",linestyle=\"-.\",lw = 0.5)\n",
    "\n",
    "\n",
    "\n",
    "\n",
    "\n",
    "plt.xlabel(\"Δt [°C]\")\n",
    "plt.ylabel(f\"Prodloužení Δl [mm]\")\n",
    "plt.xticks(x_axis)\n",
    "# plt.title(\"Graf závislosti prodloužení na teplotě\")\n",
    "plt.legend()\n",
    "plt.savefig(\"Graphs\\\\\"+ str(praktikum.split(\"\\\\\")[1][:4]))\n",
    "\n",
    "# Errorbar template\n",
    "# plt.errorbar(x_axis, dframe[\"l_1 [mm]\"],0.005,xerr=0.5, ls='', capsize=4, marker='^', ms=5, mec='black')\n"
   ]
  },
  {
   "cell_type": "code",
   "execution_count": 11,
   "id": "796aed62-a162-4e97-9d13-cb2da5caa879",
   "metadata": {
    "tags": []
   },
   "outputs": [],
   "source": []
  },
  {
   "cell_type": "code",
   "execution_count": null,
   "id": "908f5f5a-cc04-46cc-af29-edea170d86a6",
   "metadata": {
    "tags": []
   },
   "outputs": [],
   "source": []
  },
  {
   "cell_type": "code",
   "execution_count": null,
   "id": "99c7ed41-0081-4788-bfb4-6a23b773965f",
   "metadata": {},
   "outputs": [],
   "source": []
  }
 ],
 "metadata": {
  "kernelspec": {
   "display_name": "Python 3 (ipykernel)",
   "language": "python",
   "name": "python3"
  },
  "language_info": {
   "codemirror_mode": {
    "name": "ipython",
    "version": 3
   },
   "file_extension": ".py",
   "mimetype": "text/x-python",
   "name": "python",
   "nbconvert_exporter": "python",
   "pygments_lexer": "ipython3",
   "version": "3.11.4"
  }
 },
 "nbformat": 4,
 "nbformat_minor": 5
}
